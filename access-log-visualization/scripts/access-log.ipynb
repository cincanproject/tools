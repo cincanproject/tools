{
 "cells": [
  {
   "cell_type": "raw",
   "metadata": {},
   "source": [
    "<script>\n",
    "  function code_toggle() {\n",
    "    if (code_shown){\n",
    "      $('div.input').hide('500');\n",
    "      $('#toggleButton').val('Show Code')\n",
    "    } else {\n",
    "      $('div.input').show('500');\n",
    "      $('#toggleButton').val('Hide Code')\n",
    "    }\n",
    "    code_shown = !code_shown\n",
    "  }\n",
    " \n",
    "  $( document ).ready(function(){\n",
    "    code_shown=false;\n",
    "    $('div.input').hide()\n",
    "  });\n",
    "</script>\n",
    "<form action=\"javascript:code_toggle()\"><input type=\"submit\" id=\"toggleButton\" value=\"Show Code\"></form>"
   ]
  },
  {
   "cell_type": "markdown",
   "metadata": {},
   "source": [
    "# Access log visualization with parallel coordinates\n",
    "Only default apache **access.log** is supported! Available columns to use in visualization:\n",
    "\n",
    "* remote\\_host\n",
    "* remote\\_logname\n",
    "* remote\\_user\n",
    "* time\\_received\n",
    "* time\\_received\\_datetimeobj\n",
    "* time\\_received\\_isoformat\n",
    "* time\\_received\\_tz\\_datetimeobj\n",
    "* time\\_received\\_tz\\_isoformat\n",
    "* time\\_received\\_utc\\_datetimeobj\n",
    "* time\\_received\\_utc\\_isoformat\n",
    "* request\\_first\\_line\n",
    "* request\\_method\n",
    "* request\\_url\n",
    "* request\\_http\\_ver\n",
    "* request\\_url\\_scheme\n",
    "* request\\_url\\_netloc\n",
    "* request\\_url\\_path\n",
    "* request\\_url\\_query\n",
    "* request\\_url\\_fragment\n",
    "* request\\_url\\_username\n",
    "* request\\_url\\_password\n",
    "* request\\_url\\_hostname\n",
    "* request\\_url\\_port\n",
    "* request\\_url\\_query\\_dict\n",
    "* request\\_url\\_query\\_list\n",
    "* request\\_url\\_query\\_simple\\_dict\n",
    "* status\n",
    "* response\\_bytes\\_clf\n",
    "* request\\_header\\_referer\n",
    "* request\\_header\\_user\\_agent\n",
    "* request\\_header\\_user\\_agent\\_\\_browser\\_\\_family\n",
    "* request\\_header\\_user\\_agent\\_\\_browser\\_\\_version\\_string\n",
    "* request\\_header\\_user\\_agent\\_\\_os\\_\\_family\n",
    "* request\\_header\\_user\\_agent\\_\\_os\\_\\_version\\_string\n",
    "* request\\_header\\_user\\_agent\\_\\_is\\_mobile"
   ]
  },
  {
   "cell_type": "code",
   "execution_count": null,
   "metadata": {
    "tags": [
     "parameters"
    ]
   },
   "outputs": [],
   "source": [
    "import os\n",
    "\n",
    "# in case the tool is run with 'cincan'\n",
    "if not os.path.isfile(os.environ['ACCESS_LOG_PATH']):\n",
    "        os.environ['ACCESS_LOG_PATH'] = \"/home/appuser/\" + os.environ['ACCESS_LOG_PATH']\n",
    "\n",
    "input_path = os.environ['ACCESS_LOG_PATH']\n",
    "print(input_path)\n",
    "\n",
    "columns = [\"remote_host\", \"request_header_user_agent__browser__family\", \"request_header_user_agent__browser__version_string\",\n",
    "            \"request_header_user_agent__os__family\", \"request_method\", \"response_bytes_clf\", \"status\",\n",
    "            \"request_url_path\", \"request_header_user_agent\"]\n",
    "\n",
    "if type(columns) == str:\n",
    "    import ast\n",
    "    columns = ast.literal_eval(columns)"
   ]
  },
  {
   "cell_type": "code",
   "execution_count": null,
   "metadata": {},
   "outputs": [],
   "source": [
    "with open(input_path, \"r\") as f:\n",
    "    log_data = f.readlines()"
   ]
  },
  {
   "cell_type": "code",
   "execution_count": null,
   "metadata": {},
   "outputs": [],
   "source": [
    "import pandas as pd\n",
    "import apache_log_parser\n",
    "\n",
    "from tqdm import tqdm_notebook as tqdm\n",
    "\n",
    "line_parser = apache_log_parser.make_parser(\"%h %l %u %t \\\"%r\\\" %>s %b \\\"%{Referer}i\\\" \\\"%{User-Agent}i\\\"\")\n",
    "\n",
    "df = pd.DataFrame()\n",
    "\n",
    "for log_line in tqdm(log_data, desc=\"Parsing log lines\"):\n",
    "    parsed_line = line_parser(log_line)\n",
    "    parsed_line = dict(list(map(lambda key, value: [key, [str(value)]], parsed_line.keys(), parsed_line.values())))\n",
    "    row_df = pd.DataFrame.from_dict(parsed_line)\n",
    "    df = df.append(row_df, sort=False)"
   ]
  },
  {
   "cell_type": "code",
   "execution_count": null,
   "metadata": {},
   "outputs": [],
   "source": [
    "rename_columns = {  \"request_header_user_agent__browser__family\": \"browser\",\n",
    "                    \"request_header_user_agent__browser__version_string\": \"browser_version\",\n",
    "                    \"request_header_user_agent__os__family\": \"os\"}\n",
    "\n",
    "columns.append(\"time_received_isoformat\")\n",
    "df = df[columns]\n",
    "\n",
    "for column in rename_columns.keys():\n",
    "    df = df.rename(columns={column: rename_columns[column]})\n",
    "    \n",
    "df[\"timestamp\"] = df[\"time_received_isoformat\"].apply(lambda value: pd.to_datetime(value).timestamp())\n",
    "\n",
    "df = df.drop(columns=[\"time_received_isoformat\"])\n",
    "\n",
    "for col in df.columns:\n",
    "    df[col + \"_cat\"] = df[col].astype(\"category\").cat.codes"
   ]
  },
  {
   "cell_type": "code",
   "execution_count": null,
   "metadata": {},
   "outputs": [],
   "source": [
    "from plotly.offline import download_plotlyjs, init_notebook_mode, plot, iplot\n",
    "import plotly.graph_objs as go\n",
    "\n",
    "init_notebook_mode(connected=True)"
   ]
  },
  {
   "cell_type": "code",
   "execution_count": null,
   "metadata": {},
   "outputs": [],
   "source": [
    "dims = []\n",
    "\n",
    "for col in df.columns:\n",
    "    if \"_cat\" in col:\n",
    "        continue\n",
    "            \n",
    "    if \"request_url_path\" in col:\n",
    "        continue\n",
    "        \n",
    "    if \"request_header_user_agent\" in col:\n",
    "        continue\n",
    "        \n",
    "    if \"timestamp\" in col:\n",
    "        dim = dict(  range = [df[col].min(), df[col].max()],\n",
    "                     label = col, values = df[col])\n",
    "    else:\n",
    "        \n",
    "        dim = dict(label = col, values = df[col + \"_cat\"])\n",
    "    \n",
    "    \n",
    "    dims.append(dim)"
   ]
  },
  {
   "cell_type": "code",
   "execution_count": null,
   "metadata": {},
   "outputs": [],
   "source": [
    "data = [\n",
    "    go.Parcoords(\n",
    "        line = dict(color = df[\"timestamp\"],\n",
    "                   showscale = True,\n",
    "                   reversescale = True,\n",
    "                   cmin = df[\"timestamp\"].min(),\n",
    "                   cmax = df[\"timestamp\"].max(),\n",
    "                   ),\n",
    "        dimensions = dims,\n",
    "    )\n",
    "]\n",
    "\n",
    "iplot(data)"
   ]
  }
 ],
 "metadata": {
  "celltoolbar": "Tags",
  "kernelspec": {
   "display_name": "Python 3",
   "language": "python",
   "name": "python3"
  },
  "language_info": {
   "codemirror_mode": {
    "name": "ipython",
    "version": 3
   },
   "file_extension": ".py",
   "mimetype": "text/x-python",
   "name": "python",
   "nbconvert_exporter": "python",
   "pygments_lexer": "ipython3",
   "version": "3.7.4"
  }
 },
 "nbformat": 4,
 "nbformat_minor": 2
}
